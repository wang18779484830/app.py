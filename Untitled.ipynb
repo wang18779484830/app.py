{
 "cells": [
  {
   "cell_type": "code",
   "execution_count": 1,
   "id": "51518ffa-7bd4-49de-bce9-e5f32e09d89f",
   "metadata": {},
   "outputs": [
    {
     "name": "stdout",
     "output_type": "stream",
     "text": [
      "Writing app.py\n"
     ]
    }
   ],
   "source": [
    "%%writefile app.py\n",
    "import srreamlit as st\n",
    "st.title(\"Streamlit 테스트 앱\")\n",
    "st.write(\"Hello World\")\n",
    "name = st.text_input(\"이름을 입력하세요:\")\n",
    "if st.button(\"인사하기\"):\n",
    "    st.success(f\"안녕하세요,(name)님!\")\n",
    "    "
   ]
  },
  {
   "cell_type": "code",
   "execution_count": null,
   "id": "363846ea-8e35-4907-8639-02bf7865f3bb",
   "metadata": {},
   "outputs": [],
   "source": [
    "!streamlit"
   ]
  }
 ],
 "metadata": {
  "kernelspec": {
   "display_name": "Python 3 (ipykernel)",
   "language": "python",
   "name": "python3"
  },
  "language_info": {
   "codemirror_mode": {
    "name": "ipython",
    "version": 3
   },
   "file_extension": ".py",
   "mimetype": "text/x-python",
   "name": "python",
   "nbconvert_exporter": "python",
   "pygments_lexer": "ipython3",
   "version": "3.13.5"
  }
 },
 "nbformat": 4,
 "nbformat_minor": 5
}
